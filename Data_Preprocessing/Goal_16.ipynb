{
 "cells": [
  {
   "cell_type": "markdown",
   "id": "017b2fb1-7537-4647-a8c2-5e6724f77f4a",
   "metadata": {},
   "source": [
    "# Sustainable Development Goal №16"
   ]
  },
  {
   "cell_type": "markdown",
   "id": "4446908b-323c-4cdd-8f60-358d4714d082",
   "metadata": {
    "tags": []
   },
   "source": [
    "In this notebook, we will read, save, clean, and merge data for the Sustainable Development Goal №16."
   ]
  },
  {
   "cell_type": "markdown",
   "id": "08f0e67f-9993-4dc5-b2a1-08296f434bb9",
   "metadata": {},
   "source": [
    "Let's start by importing relevant libraries and checking their versions."
   ]
  },
  {
   "cell_type": "code",
   "execution_count": 19,
   "id": "4f85fc89-d291-4f6e-8c3c-e162b647c530",
   "metadata": {},
   "outputs": [],
   "source": [
    "# Importing libraries\n",
    "import pandas as pd\n",
    "import matplotlib.pyplot as plt\n"
   ]
  },
  {
   "cell_type": "code",
   "execution_count": 22,
   "id": "5622d7f2-fbf1-4d1a-a69a-c29fd478ae3b",
   "metadata": {},
   "outputs": [
    {
     "name": "stdout",
     "output_type": "stream",
     "text": [
      "The watermark extension is already loaded. To reload it, use:\n",
      "  %reload_ext watermark\n",
      "Python implementation: CPython\n",
      "Python version       : 3.7.10\n",
      "IPython version      : 7.29.0\n",
      "\n",
      "numpy     : 1.20.3\n",
      "pandas    : 1.3.4\n",
      "matplotlib: 3.3.4\n",
      "\n"
     ]
    }
   ],
   "source": [
    "# Printing verions of Python modules and packages with `watermark` - the IPython magic extension.\n",
    "%load_ext watermark\n",
    "\n",
    "%watermark -v -p numpy,pandas,matplotlib"
   ]
  },
  {
   "cell_type": "markdown",
   "id": "d7b94276-1fb9-4abc-8dd6-aa316489ec53",
   "metadata": {},
   "source": [
    "import requests\n",
    "\n",
    "\n",
    "\n",
    "\n",
    "import numpy as np\n",
    "\n",
    "\n",
    "\n",
    "import geopandas as gpd\n",
    "from fiona.crs import from_epsg\n",
    "import matplotlib.pyplot as plt\n",
    "import os\n",
    "import urllib\n",
    "import json\n",
    "from io import BytesIO\n",
    "from sodapy import Socrata\n",
    "import zipfile\n",
    "from zipfile import ZipFile\n",
    "from os.path import basename\n",
    "from openpyxl import Workbook"
   ]
  },
  {
   "cell_type": "markdown",
   "id": "4c9cfa4d-c296-4bf7-b727-8d737daa9b0d",
   "metadata": {},
   "source": [
    "## Target 16.b"
   ]
  },
  {
   "cell_type": "markdown",
   "id": "fa17c3f8-a758-4210-9c0e-244940e05d4c",
   "metadata": {},
   "source": [
    "*Definition: Promote and enforce non-discriminatory laws and policies for sustainable development.*"
   ]
  },
  {
   "cell_type": "markdown",
   "id": "146211d1-819c-4040-bf1f-f0733869fc32",
   "metadata": {
    "tags": []
   },
   "source": [
    "### Indicator 16.b.1"
   ]
  },
  {
   "cell_type": "markdown",
   "id": "611ff638-d489-444b-8f08-f7433c030ec8",
   "metadata": {},
   "source": [
    "*Definition: Proportion of population reporting having personally felt discriminated against or harassed in the previous 12 months on the basis of a ground of discrimination prohibited under international human rights law*"
   ]
  },
  {
   "cell_type": "markdown",
   "id": "c8d8a62e-a22f-49a5-a64f-7dff5284d139",
   "metadata": {},
   "source": [
    "For this Indicator, we will use the NYPD Hate Crimes dataset containing confirmed hate crime incidents in NYC. This dataset is partially available (2020-2021) on the [NYC Open Data Portal](https://data.cityofnewyork.us/Public-Safety/NYPD-Hate-Crimes/bqiq-cu78) and is updated every month. Previous data (2017-2018) is available on the [Official Website of the City of New York](https://www1.nyc.gov/site/nypd/stats/reports-analysis/hate-crimes.page).\n"
   ]
  },
  {
   "cell_type": "code",
   "execution_count": 12,
   "id": "18230ba7-47e9-43a6-af41-2cdcbd31cff6",
   "metadata": {},
   "outputs": [],
   "source": [
    "# reading in data as a url from NYC Open Data\n",
    "host = 'https://data.cityofnewyork.us/resource/bqiq-cu78.csv'\n",
    "\n",
    "# saving data as a pandas dataframe named 'building_footprints_csv'\n",
    "hate_Crimes = pd.read_csv(host)"
   ]
  },
  {
   "cell_type": "markdown",
   "id": "89bf6073-280b-4810-a0fc-82db9a5b60f6",
   "metadata": {},
   "source": [
    "<h1><center>Data Dictionary</center></h1>\n",
    "\n",
    "| Column Name | Description | \n",
    "|------------ | ------------- | \n",
    "| Full Complaint ID | Year in which incident occurred | \n",
    "| Month Number | Month in which incident occurred | \n",
    "| Record Create Date | Date report was filed | \n",
    "| Complaint Precinct Code | NYPD Precinct in which incident occurred | \n",
    "| Patrol Borough Name | NYPD Patrol Borough in which incident occurred |\n",
    "| County | County in which incident occurred  | \n",
    "| Law Code Category Description | \n",
    "| Offense Description | A description of the offense | \n",
    "| PD Code Description | The NYPD description of the offense |\n",
    "| Bias Motive Description | Bias Motive Description |\n",
    "| Offense Category | General categorization of hate crime type |\n",
    "| Arrest Date | Date arrest was made (if arrest happened) |\n",
    "| Arrest Id | Identifier for arrest (if made)"
   ]
  },
  {
   "cell_type": "code",
   "execution_count": 14,
   "id": "db726345-01d8-475f-9985-c551b7ea9993",
   "metadata": {},
   "outputs": [
    {
     "data": {
      "text/html": [
       "<div>\n",
       "<style scoped>\n",
       "    .dataframe tbody tr th:only-of-type {\n",
       "        vertical-align: middle;\n",
       "    }\n",
       "\n",
       "    .dataframe tbody tr th {\n",
       "        vertical-align: top;\n",
       "    }\n",
       "\n",
       "    .dataframe thead th {\n",
       "        text-align: right;\n",
       "    }\n",
       "</style>\n",
       "<table border=\"1\" class=\"dataframe\">\n",
       "  <thead>\n",
       "    <tr style=\"text-align: right;\">\n",
       "      <th></th>\n",
       "      <th>full_complaint_id</th>\n",
       "      <th>complaint_year_number</th>\n",
       "      <th>month_number</th>\n",
       "      <th>record_create_date</th>\n",
       "      <th>complaint_precinct_code</th>\n",
       "      <th>patrol_borough_name</th>\n",
       "      <th>county</th>\n",
       "      <th>law_code_category_description</th>\n",
       "      <th>offense_description</th>\n",
       "      <th>pd_code_description</th>\n",
       "      <th>bias_motive_description</th>\n",
       "      <th>offense_category</th>\n",
       "      <th>arrest_date</th>\n",
       "      <th>arrest_id</th>\n",
       "    </tr>\n",
       "  </thead>\n",
       "  <tbody>\n",
       "    <tr>\n",
       "      <th>0</th>\n",
       "      <td>201904612204817</td>\n",
       "      <td>2019</td>\n",
       "      <td>2</td>\n",
       "      <td>2019-02-08T00:00:00.000</td>\n",
       "      <td>46</td>\n",
       "      <td>PATROL BORO BRONX</td>\n",
       "      <td>BRONX</td>\n",
       "      <td>FELONY</td>\n",
       "      <td>FELONY ASSAULT</td>\n",
       "      <td>ASSAULT 2,1,UNCLASSIFIED</td>\n",
       "      <td>ANTI-MALE HOMOSEXUAL (GAY)</td>\n",
       "      <td>Sexual Orientation</td>\n",
       "      <td>2019-02-08T00:00:00.000</td>\n",
       "      <td>B31678218</td>\n",
       "    </tr>\n",
       "    <tr>\n",
       "      <th>1</th>\n",
       "      <td>201904812229517</td>\n",
       "      <td>2019</td>\n",
       "      <td>3</td>\n",
       "      <td>2019-03-09T00:00:00.000</td>\n",
       "      <td>48</td>\n",
       "      <td>PATROL BORO BRONX</td>\n",
       "      <td>BRONX</td>\n",
       "      <td>MISDEMEANOR</td>\n",
       "      <td>ASSAULT 3 &amp; RELATED OFFENSES</td>\n",
       "      <td>ASSAULT 3</td>\n",
       "      <td>ANTI-WHITE</td>\n",
       "      <td>Race/Color</td>\n",
       "      <td>2019-03-09T00:00:00.000</td>\n",
       "      <td>B31682790</td>\n",
       "    </tr>\n",
       "    <tr>\n",
       "      <th>2</th>\n",
       "      <td>201904812226617</td>\n",
       "      <td>2019</td>\n",
       "      <td>3</td>\n",
       "      <td>2019-03-08T00:00:00.000</td>\n",
       "      <td>48</td>\n",
       "      <td>PATROL BORO BRONX</td>\n",
       "      <td>BRONX</td>\n",
       "      <td>MISDEMEANOR</td>\n",
       "      <td>ASSAULT 3 &amp; RELATED OFFENSES</td>\n",
       "      <td>ASSAULT 3</td>\n",
       "      <td>ANTI-WHITE</td>\n",
       "      <td>Race/Color</td>\n",
       "      <td>2019-03-09T00:00:00.000</td>\n",
       "      <td>B31682806</td>\n",
       "    </tr>\n",
       "    <tr>\n",
       "      <th>3</th>\n",
       "      <td>201904812231317</td>\n",
       "      <td>2019</td>\n",
       "      <td>3</td>\n",
       "      <td>2019-03-10T00:00:00.000</td>\n",
       "      <td>48</td>\n",
       "      <td>PATROL BORO BRONX</td>\n",
       "      <td>BRONX</td>\n",
       "      <td>MISDEMEANOR</td>\n",
       "      <td>ASSAULT 3 &amp; RELATED OFFENSES</td>\n",
       "      <td>ASSAULT 3</td>\n",
       "      <td>ANTI-WHITE</td>\n",
       "      <td>Race/Color</td>\n",
       "      <td>2019-03-09T00:00:00.000</td>\n",
       "      <td>B31682806</td>\n",
       "    </tr>\n",
       "    <tr>\n",
       "      <th>4</th>\n",
       "      <td>201904212405517</td>\n",
       "      <td>2019</td>\n",
       "      <td>5</td>\n",
       "      <td>2019-05-11T00:00:00.000</td>\n",
       "      <td>42</td>\n",
       "      <td>PATROL BORO BRONX</td>\n",
       "      <td>BRONX</td>\n",
       "      <td>FELONY</td>\n",
       "      <td>ROBBERY</td>\n",
       "      <td>ROBBERY,POCKETBOOK/CARRIED BAG</td>\n",
       "      <td>ANTI-MUSLIM</td>\n",
       "      <td>Religion/Religious Practice</td>\n",
       "      <td>2019-05-10T00:00:00.000</td>\n",
       "      <td>B31692174</td>\n",
       "    </tr>\n",
       "  </tbody>\n",
       "</table>\n",
       "</div>"
      ],
      "text/plain": [
       "   full_complaint_id  complaint_year_number  month_number  \\\n",
       "0    201904612204817                   2019             2   \n",
       "1    201904812229517                   2019             3   \n",
       "2    201904812226617                   2019             3   \n",
       "3    201904812231317                   2019             3   \n",
       "4    201904212405517                   2019             5   \n",
       "\n",
       "        record_create_date  complaint_precinct_code patrol_borough_name  \\\n",
       "0  2019-02-08T00:00:00.000                       46   PATROL BORO BRONX   \n",
       "1  2019-03-09T00:00:00.000                       48   PATROL BORO BRONX   \n",
       "2  2019-03-08T00:00:00.000                       48   PATROL BORO BRONX   \n",
       "3  2019-03-10T00:00:00.000                       48   PATROL BORO BRONX   \n",
       "4  2019-05-11T00:00:00.000                       42   PATROL BORO BRONX   \n",
       "\n",
       "  county law_code_category_description           offense_description  \\\n",
       "0  BRONX                        FELONY                FELONY ASSAULT   \n",
       "1  BRONX                   MISDEMEANOR  ASSAULT 3 & RELATED OFFENSES   \n",
       "2  BRONX                   MISDEMEANOR  ASSAULT 3 & RELATED OFFENSES   \n",
       "3  BRONX                   MISDEMEANOR  ASSAULT 3 & RELATED OFFENSES   \n",
       "4  BRONX                        FELONY                       ROBBERY   \n",
       "\n",
       "              pd_code_description     bias_motive_description  \\\n",
       "0        ASSAULT 2,1,UNCLASSIFIED  ANTI-MALE HOMOSEXUAL (GAY)   \n",
       "1                       ASSAULT 3                  ANTI-WHITE   \n",
       "2                       ASSAULT 3                  ANTI-WHITE   \n",
       "3                       ASSAULT 3                  ANTI-WHITE   \n",
       "4  ROBBERY,POCKETBOOK/CARRIED BAG                 ANTI-MUSLIM   \n",
       "\n",
       "              offense_category              arrest_date  arrest_id  \n",
       "0           Sexual Orientation  2019-02-08T00:00:00.000  B31678218  \n",
       "1                   Race/Color  2019-03-09T00:00:00.000  B31682790  \n",
       "2                   Race/Color  2019-03-09T00:00:00.000  B31682806  \n",
       "3                   Race/Color  2019-03-09T00:00:00.000  B31682806  \n",
       "4  Religion/Religious Practice  2019-05-10T00:00:00.000  B31692174  "
      ]
     },
     "execution_count": 14,
     "metadata": {},
     "output_type": "execute_result"
    }
   ],
   "source": [
    "# previewing the first five rows \n",
    "building_footprints_csv.head()"
   ]
  },
  {
   "cell_type": "code",
   "execution_count": null,
   "id": "24e92349-c917-4007-8c48-25a6fd789736",
   "metadata": {},
   "outputs": [],
   "source": []
  }
 ],
 "metadata": {
  "kernelspec": {
   "display_name": "Python 3 (ipykernel)",
   "language": "python",
   "name": "python3"
  },
  "language_info": {
   "codemirror_mode": {
    "name": "ipython",
    "version": 3
   },
   "file_extension": ".py",
   "mimetype": "text/x-python",
   "name": "python",
   "nbconvert_exporter": "python",
   "pygments_lexer": "ipython3",
   "version": "3.7.10"
  }
 },
 "nbformat": 4,
 "nbformat_minor": 5
}
