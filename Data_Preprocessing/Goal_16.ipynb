{
 "cells": [
  {
   "cell_type": "markdown",
   "id": "017b2fb1-7537-4647-a8c2-5e6724f77f4a",
   "metadata": {},
   "source": [
    "# Sustainable Development Goal №16"
   ]
  },
  {
   "cell_type": "markdown",
   "id": "4446908b-323c-4cdd-8f60-358d4714d082",
   "metadata": {
    "tags": []
   },
   "source": [
    "In this notebook, we will read, save, clean, and merge data for the Sustainable Development Goal №16."
   ]
  },
  {
   "cell_type": "markdown",
   "id": "08f0e67f-9993-4dc5-b2a1-08296f434bb9",
   "metadata": {},
   "source": [
    "Let's start by importing relevant libraries and checking their versions."
   ]
  },
  {
   "cell_type": "code",
   "execution_count": 19,
   "id": "4f85fc89-d291-4f6e-8c3c-e162b647c530",
   "metadata": {},
   "outputs": [],
   "source": [
    "# Importing libraries\n",
    "import pandas as pd\n",
    "import matplotlib.pyplot as plt\n"
   ]
  },
  {
   "cell_type": "code",
   "execution_count": 33,
   "id": "5622d7f2-fbf1-4d1a-a69a-c29fd478ae3b",
   "metadata": {},
   "outputs": [
    {
     "name": "stdout",
     "output_type": "stream",
     "text": [
      "The watermark extension is already loaded. To reload it, use:\n",
      "  %reload_ext watermark\n",
      "Python implementation: CPython\n",
      "Python version       : 3.7.10\n",
      "IPython version      : 7.29.0\n",
      "\n",
      "numpy     : 1.20.3\n",
      "pandas    : 1.3.4\n",
      "matplotlib: 3.3.4\n",
      "\n"
     ]
    }
   ],
   "source": [
    "# Printing verions of Python modules and packages with watermark - the IPython magic extension.\n",
    "%load_ext watermark\n",
    "\n",
    "%watermark -v -p numpy,pandas,matplotlib"
   ]
  },
  {
   "cell_type": "markdown",
   "id": "4c9cfa4d-c296-4bf7-b727-8d737daa9b0d",
   "metadata": {},
   "source": [
    "## Target 16.b"
   ]
  },
  {
   "cell_type": "markdown",
   "id": "fa17c3f8-a758-4210-9c0e-244940e05d4c",
   "metadata": {},
   "source": [
    "*Definition: Promote and enforce non-discriminatory laws and policies for sustainable development.*"
   ]
  },
  {
   "cell_type": "markdown",
   "id": "146211d1-819c-4040-bf1f-f0733869fc32",
   "metadata": {
    "tags": []
   },
   "source": [
    "### Indicator 16.b.1"
   ]
  },
  {
   "cell_type": "markdown",
   "id": "611ff638-d489-444b-8f08-f7433c030ec8",
   "metadata": {},
   "source": [
    "*Definition: Proportion of population reporting having personally felt discriminated against or harassed in the previous 12 months on the basis of a ground of discrimination prohibited under international human rights law*"
   ]
  },
  {
   "cell_type": "markdown",
   "id": "c8d8a62e-a22f-49a5-a64f-7dff5284d139",
   "metadata": {},
   "source": [
    "For this Indicator, we will use the NYPD Hate Crimes dataset containing confirmed hate crime incidents in NYC. Hate Crimes are offenses that are motivated in whole or substantial part by a person's, a group's or a place's identification with a particular race, religion, ethnicity, gender, age, disability, ancestry, national origin or sexual orientation.\n",
    "\n",
    "This dataset is partially available (2020-2021) on the [NYC Open Data Portal](https://data.cityofnewyork.us/Public-Safety/NYPD-Hate-Crimes/bqiq-cu78) and is updated every month. Previous data (2017-2018) is available on the [Official Website of the City of New York](https://www1.nyc.gov/site/nypd/stats/reports-analysis/hate-crimes.page).\n",
    "\n",
    "We are going to build a variable that reflects the UN's definition for Indicator 16.b.1 provided above. \n",
    "\n",
    "In this variable, we will look at the number of hate crime complaints filed with NYPD by year and several geographies. Therefore, the definition for the `hate_Crimes` variable that we will create is going to be as follows: *Number of complaints filed by people reporting having personally felt discriminated against or harassed in the previous 12 months on the basis of race, religion, ethnicity, gender, age, disability, ancestry, national origin or sexual orientation.*"
   ]
  },
  {
   "cell_type": "markdown",
   "id": "bafb1680-4f39-466e-b781-b140952dd532",
   "metadata": {},
   "source": [
    "#### 1. Reading in data as a pandas dataframe"
   ]
  },
  {
   "cell_type": "code",
   "execution_count": 12,
   "id": "18230ba7-47e9-43a6-af41-2cdcbd31cff6",
   "metadata": {},
   "outputs": [],
   "source": [
    "# reading in data as a url from NYC Open Data\n",
    "host = 'https://data.cityofnewyork.us/resource/bqiq-cu78.csv'\n",
    "\n",
    "# saving data as a pandas dataframe named 'building_footprints_csv'\n",
    "hate_Crimes = pd.read_csv(host)"
   ]
  },
  {
   "cell_type": "markdown",
   "id": "93163b48-3bb0-4107-99a5-0df2a888d257",
   "metadata": {},
   "source": [
    "#### 2. Data Inspection"
   ]
  },
  {
   "cell_type": "markdown",
   "id": "89bf6073-280b-4810-a0fc-82db9a5b60f6",
   "metadata": {},
   "source": [
    "                                                    Data Dictionary\n",
    "---------------------------------------------\n",
    "| Column Name | Description | \n",
    "| ------------ | ------------- | \n",
    "| Full Complaint ID | Year in which incident occurred | \n",
    "| Month Number | Month in which incident occurred | \n",
    "| Record Create Date | Date report was filed | \n",
    "| Complaint Precinct Code | NYPD Precinct in which incident occurred | \n",
    "| Patrol Borough Name | NYPD Patrol Borough in which incident occurred |\n",
    "| County | County in which incident occurred  | \n",
    "| Law Code Category Description | Category of offense |\n",
    "| Offense Description | A description of the offense | \n",
    "| PD Code Description | The NYPD description of the offense |\n",
    "| Bias Motive Description | Bias Motive Description |\n",
    "| Offense Category | General categorization of hate crime type |\n",
    "| Arrest Date | Date arrest was made (if arrest happened) |\n",
    "| Arrest Id | Identifier for arrest (if made) |  \n"
   ]
  },
  {
   "cell_type": "code",
   "execution_count": 26,
   "id": "db726345-01d8-475f-9985-c551b7ea9993",
   "metadata": {},
   "outputs": [
    {
     "data": {
      "text/html": [
       "<div>\n",
       "<style scoped>\n",
       "    .dataframe tbody tr th:only-of-type {\n",
       "        vertical-align: middle;\n",
       "    }\n",
       "\n",
       "    .dataframe tbody tr th {\n",
       "        vertical-align: top;\n",
       "    }\n",
       "\n",
       "    .dataframe thead th {\n",
       "        text-align: right;\n",
       "    }\n",
       "</style>\n",
       "<table border=\"1\" class=\"dataframe\">\n",
       "  <thead>\n",
       "    <tr style=\"text-align: right;\">\n",
       "      <th></th>\n",
       "      <th>full_complaint_id</th>\n",
       "      <th>complaint_year_number</th>\n",
       "      <th>month_number</th>\n",
       "      <th>record_create_date</th>\n",
       "      <th>complaint_precinct_code</th>\n",
       "      <th>patrol_borough_name</th>\n",
       "      <th>county</th>\n",
       "      <th>law_code_category_description</th>\n",
       "      <th>offense_description</th>\n",
       "      <th>pd_code_description</th>\n",
       "      <th>bias_motive_description</th>\n",
       "      <th>offense_category</th>\n",
       "      <th>arrest_date</th>\n",
       "      <th>arrest_id</th>\n",
       "    </tr>\n",
       "  </thead>\n",
       "  <tbody>\n",
       "    <tr>\n",
       "      <th>0</th>\n",
       "      <td>201904612204817</td>\n",
       "      <td>2019</td>\n",
       "      <td>2</td>\n",
       "      <td>2019-02-08T00:00:00.000</td>\n",
       "      <td>46</td>\n",
       "      <td>PATROL BORO BRONX</td>\n",
       "      <td>BRONX</td>\n",
       "      <td>FELONY</td>\n",
       "      <td>FELONY ASSAULT</td>\n",
       "      <td>ASSAULT 2,1,UNCLASSIFIED</td>\n",
       "      <td>ANTI-MALE HOMOSEXUAL (GAY)</td>\n",
       "      <td>Sexual Orientation</td>\n",
       "      <td>2019-02-08T00:00:00.000</td>\n",
       "      <td>B31678218</td>\n",
       "    </tr>\n",
       "    <tr>\n",
       "      <th>1</th>\n",
       "      <td>201904812229517</td>\n",
       "      <td>2019</td>\n",
       "      <td>3</td>\n",
       "      <td>2019-03-09T00:00:00.000</td>\n",
       "      <td>48</td>\n",
       "      <td>PATROL BORO BRONX</td>\n",
       "      <td>BRONX</td>\n",
       "      <td>MISDEMEANOR</td>\n",
       "      <td>ASSAULT 3 &amp; RELATED OFFENSES</td>\n",
       "      <td>ASSAULT 3</td>\n",
       "      <td>ANTI-WHITE</td>\n",
       "      <td>Race/Color</td>\n",
       "      <td>2019-03-09T00:00:00.000</td>\n",
       "      <td>B31682790</td>\n",
       "    </tr>\n",
       "    <tr>\n",
       "      <th>2</th>\n",
       "      <td>201904812226617</td>\n",
       "      <td>2019</td>\n",
       "      <td>3</td>\n",
       "      <td>2019-03-08T00:00:00.000</td>\n",
       "      <td>48</td>\n",
       "      <td>PATROL BORO BRONX</td>\n",
       "      <td>BRONX</td>\n",
       "      <td>MISDEMEANOR</td>\n",
       "      <td>ASSAULT 3 &amp; RELATED OFFENSES</td>\n",
       "      <td>ASSAULT 3</td>\n",
       "      <td>ANTI-WHITE</td>\n",
       "      <td>Race/Color</td>\n",
       "      <td>2019-03-09T00:00:00.000</td>\n",
       "      <td>B31682806</td>\n",
       "    </tr>\n",
       "    <tr>\n",
       "      <th>3</th>\n",
       "      <td>201904812231317</td>\n",
       "      <td>2019</td>\n",
       "      <td>3</td>\n",
       "      <td>2019-03-10T00:00:00.000</td>\n",
       "      <td>48</td>\n",
       "      <td>PATROL BORO BRONX</td>\n",
       "      <td>BRONX</td>\n",
       "      <td>MISDEMEANOR</td>\n",
       "      <td>ASSAULT 3 &amp; RELATED OFFENSES</td>\n",
       "      <td>ASSAULT 3</td>\n",
       "      <td>ANTI-WHITE</td>\n",
       "      <td>Race/Color</td>\n",
       "      <td>2019-03-09T00:00:00.000</td>\n",
       "      <td>B31682806</td>\n",
       "    </tr>\n",
       "    <tr>\n",
       "      <th>4</th>\n",
       "      <td>201904212405517</td>\n",
       "      <td>2019</td>\n",
       "      <td>5</td>\n",
       "      <td>2019-05-11T00:00:00.000</td>\n",
       "      <td>42</td>\n",
       "      <td>PATROL BORO BRONX</td>\n",
       "      <td>BRONX</td>\n",
       "      <td>FELONY</td>\n",
       "      <td>ROBBERY</td>\n",
       "      <td>ROBBERY,POCKETBOOK/CARRIED BAG</td>\n",
       "      <td>ANTI-MUSLIM</td>\n",
       "      <td>Religion/Religious Practice</td>\n",
       "      <td>2019-05-10T00:00:00.000</td>\n",
       "      <td>B31692174</td>\n",
       "    </tr>\n",
       "  </tbody>\n",
       "</table>\n",
       "</div>"
      ],
      "text/plain": [
       "   full_complaint_id  complaint_year_number  month_number  \\\n",
       "0    201904612204817                   2019             2   \n",
       "1    201904812229517                   2019             3   \n",
       "2    201904812226617                   2019             3   \n",
       "3    201904812231317                   2019             3   \n",
       "4    201904212405517                   2019             5   \n",
       "\n",
       "        record_create_date  complaint_precinct_code patrol_borough_name  \\\n",
       "0  2019-02-08T00:00:00.000                       46   PATROL BORO BRONX   \n",
       "1  2019-03-09T00:00:00.000                       48   PATROL BORO BRONX   \n",
       "2  2019-03-08T00:00:00.000                       48   PATROL BORO BRONX   \n",
       "3  2019-03-10T00:00:00.000                       48   PATROL BORO BRONX   \n",
       "4  2019-05-11T00:00:00.000                       42   PATROL BORO BRONX   \n",
       "\n",
       "  county law_code_category_description           offense_description  \\\n",
       "0  BRONX                        FELONY                FELONY ASSAULT   \n",
       "1  BRONX                   MISDEMEANOR  ASSAULT 3 & RELATED OFFENSES   \n",
       "2  BRONX                   MISDEMEANOR  ASSAULT 3 & RELATED OFFENSES   \n",
       "3  BRONX                   MISDEMEANOR  ASSAULT 3 & RELATED OFFENSES   \n",
       "4  BRONX                        FELONY                       ROBBERY   \n",
       "\n",
       "              pd_code_description     bias_motive_description  \\\n",
       "0        ASSAULT 2,1,UNCLASSIFIED  ANTI-MALE HOMOSEXUAL (GAY)   \n",
       "1                       ASSAULT 3                  ANTI-WHITE   \n",
       "2                       ASSAULT 3                  ANTI-WHITE   \n",
       "3                       ASSAULT 3                  ANTI-WHITE   \n",
       "4  ROBBERY,POCKETBOOK/CARRIED BAG                 ANTI-MUSLIM   \n",
       "\n",
       "              offense_category              arrest_date  arrest_id  \n",
       "0           Sexual Orientation  2019-02-08T00:00:00.000  B31678218  \n",
       "1                   Race/Color  2019-03-09T00:00:00.000  B31682790  \n",
       "2                   Race/Color  2019-03-09T00:00:00.000  B31682806  \n",
       "3                   Race/Color  2019-03-09T00:00:00.000  B31682806  \n",
       "4  Religion/Religious Practice  2019-05-10T00:00:00.000  B31692174  "
      ]
     },
     "execution_count": 26,
     "metadata": {},
     "output_type": "execute_result"
    }
   ],
   "source": [
    "# previewing the first five rows \n",
    "hate_Crimes.head()"
   ]
  },
  {
   "cell_type": "code",
   "execution_count": 25,
   "id": "2dc4d070-e6b2-404a-b7d3-33f7649352cf",
   "metadata": {},
   "outputs": [
    {
     "data": {
      "text/html": [
       "<div>\n",
       "<style scoped>\n",
       "    .dataframe tbody tr th:only-of-type {\n",
       "        vertical-align: middle;\n",
       "    }\n",
       "\n",
       "    .dataframe tbody tr th {\n",
       "        vertical-align: top;\n",
       "    }\n",
       "\n",
       "    .dataframe thead th {\n",
       "        text-align: right;\n",
       "    }\n",
       "</style>\n",
       "<table border=\"1\" class=\"dataframe\">\n",
       "  <thead>\n",
       "    <tr style=\"text-align: right;\">\n",
       "      <th></th>\n",
       "      <th>full_complaint_id</th>\n",
       "      <th>complaint_year_number</th>\n",
       "      <th>month_number</th>\n",
       "      <th>record_create_date</th>\n",
       "      <th>complaint_precinct_code</th>\n",
       "      <th>patrol_borough_name</th>\n",
       "      <th>county</th>\n",
       "      <th>law_code_category_description</th>\n",
       "      <th>offense_description</th>\n",
       "      <th>pd_code_description</th>\n",
       "      <th>bias_motive_description</th>\n",
       "      <th>offense_category</th>\n",
       "      <th>arrest_date</th>\n",
       "      <th>arrest_id</th>\n",
       "    </tr>\n",
       "  </thead>\n",
       "  <tbody>\n",
       "    <tr>\n",
       "      <th>995</th>\n",
       "      <td>202102412173717</td>\n",
       "      <td>2021</td>\n",
       "      <td>3</td>\n",
       "      <td>2021-03-25T00:00:00.000</td>\n",
       "      <td>24</td>\n",
       "      <td>PATROL BORO MAN NORTH</td>\n",
       "      <td>NEW YORK</td>\n",
       "      <td>MISDEMEANOR</td>\n",
       "      <td>CRIMINAL MISCHIEF &amp; RELATED OF</td>\n",
       "      <td>CRIMINAL MISCHIEF 4TH, GRAFFIT</td>\n",
       "      <td>ANTI-JEWISH</td>\n",
       "      <td>Religion/Religious Practice</td>\n",
       "      <td>NaN</td>\n",
       "      <td>NaN</td>\n",
       "    </tr>\n",
       "    <tr>\n",
       "      <th>996</th>\n",
       "      <td>202102412180417</td>\n",
       "      <td>2021</td>\n",
       "      <td>3</td>\n",
       "      <td>2021-03-30T00:00:00.000</td>\n",
       "      <td>24</td>\n",
       "      <td>PATROL BORO MAN NORTH</td>\n",
       "      <td>NEW YORK</td>\n",
       "      <td>FELONY</td>\n",
       "      <td>MISCELLANEOUS PENAL LAW</td>\n",
       "      <td>AGGRAVATED HARASSMENT 1</td>\n",
       "      <td>ANTI-JEWISH</td>\n",
       "      <td>Religion/Religious Practice</td>\n",
       "      <td>NaN</td>\n",
       "      <td>NaN</td>\n",
       "    </tr>\n",
       "    <tr>\n",
       "      <th>997</th>\n",
       "      <td>202102412192317</td>\n",
       "      <td>2021</td>\n",
       "      <td>4</td>\n",
       "      <td>2021-04-07T00:00:00.000</td>\n",
       "      <td>24</td>\n",
       "      <td>PATROL BORO MAN NORTH</td>\n",
       "      <td>NEW YORK</td>\n",
       "      <td>MISDEMEANOR</td>\n",
       "      <td>ASSAULT 3 &amp; RELATED OFFENSES</td>\n",
       "      <td>ASSAULT 3</td>\n",
       "      <td>ANTI-ASIAN</td>\n",
       "      <td>Race/Color</td>\n",
       "      <td>NaN</td>\n",
       "      <td>NaN</td>\n",
       "    </tr>\n",
       "    <tr>\n",
       "      <th>998</th>\n",
       "      <td>202102412251317</td>\n",
       "      <td>2021</td>\n",
       "      <td>5</td>\n",
       "      <td>2021-05-16T00:00:00.000</td>\n",
       "      <td>24</td>\n",
       "      <td>PATROL BORO MAN NORTH</td>\n",
       "      <td>NEW YORK</td>\n",
       "      <td>MISDEMEANOR</td>\n",
       "      <td>ASSAULT 3 &amp; RELATED OFFENSES</td>\n",
       "      <td>ASSAULT 3</td>\n",
       "      <td>ANTI-MALE HOMOSEXUAL (GAY)</td>\n",
       "      <td>Sexual Orientation</td>\n",
       "      <td>NaN</td>\n",
       "      <td>NaN</td>\n",
       "    </tr>\n",
       "    <tr>\n",
       "      <th>999</th>\n",
       "      <td>202102412327917</td>\n",
       "      <td>2021</td>\n",
       "      <td>7</td>\n",
       "      <td>2021-07-11T00:00:00.000</td>\n",
       "      <td>24</td>\n",
       "      <td>PATROL BORO MAN NORTH</td>\n",
       "      <td>NEW YORK</td>\n",
       "      <td>MISDEMEANOR</td>\n",
       "      <td>ASSAULT 3 &amp; RELATED OFFENSES</td>\n",
       "      <td>ASSAULT 3</td>\n",
       "      <td>ANTI-MALE HOMOSEXUAL (GAY)</td>\n",
       "      <td>Sexual Orientation</td>\n",
       "      <td>NaN</td>\n",
       "      <td>NaN</td>\n",
       "    </tr>\n",
       "  </tbody>\n",
       "</table>\n",
       "</div>"
      ],
      "text/plain": [
       "     full_complaint_id  complaint_year_number  month_number  \\\n",
       "995    202102412173717                   2021             3   \n",
       "996    202102412180417                   2021             3   \n",
       "997    202102412192317                   2021             4   \n",
       "998    202102412251317                   2021             5   \n",
       "999    202102412327917                   2021             7   \n",
       "\n",
       "          record_create_date  complaint_precinct_code    patrol_borough_name  \\\n",
       "995  2021-03-25T00:00:00.000                       24  PATROL BORO MAN NORTH   \n",
       "996  2021-03-30T00:00:00.000                       24  PATROL BORO MAN NORTH   \n",
       "997  2021-04-07T00:00:00.000                       24  PATROL BORO MAN NORTH   \n",
       "998  2021-05-16T00:00:00.000                       24  PATROL BORO MAN NORTH   \n",
       "999  2021-07-11T00:00:00.000                       24  PATROL BORO MAN NORTH   \n",
       "\n",
       "       county law_code_category_description             offense_description  \\\n",
       "995  NEW YORK                   MISDEMEANOR  CRIMINAL MISCHIEF & RELATED OF   \n",
       "996  NEW YORK                        FELONY         MISCELLANEOUS PENAL LAW   \n",
       "997  NEW YORK                   MISDEMEANOR    ASSAULT 3 & RELATED OFFENSES   \n",
       "998  NEW YORK                   MISDEMEANOR    ASSAULT 3 & RELATED OFFENSES   \n",
       "999  NEW YORK                   MISDEMEANOR    ASSAULT 3 & RELATED OFFENSES   \n",
       "\n",
       "                pd_code_description     bias_motive_description  \\\n",
       "995  CRIMINAL MISCHIEF 4TH, GRAFFIT                 ANTI-JEWISH   \n",
       "996         AGGRAVATED HARASSMENT 1                 ANTI-JEWISH   \n",
       "997                       ASSAULT 3                  ANTI-ASIAN   \n",
       "998                       ASSAULT 3  ANTI-MALE HOMOSEXUAL (GAY)   \n",
       "999                       ASSAULT 3  ANTI-MALE HOMOSEXUAL (GAY)   \n",
       "\n",
       "                offense_category arrest_date arrest_id  \n",
       "995  Religion/Religious Practice         NaN       NaN  \n",
       "996  Religion/Religious Practice         NaN       NaN  \n",
       "997                   Race/Color         NaN       NaN  \n",
       "998           Sexual Orientation         NaN       NaN  \n",
       "999           Sexual Orientation         NaN       NaN  "
      ]
     },
     "execution_count": 25,
     "metadata": {},
     "output_type": "execute_result"
    }
   ],
   "source": [
    "# previewing the last five rows of our dataframe\n",
    "hate_Crimes.tail()"
   ]
  },
  {
   "cell_type": "code",
   "execution_count": 27,
   "id": "e0366299-1dd5-46b8-bec8-053664b2e4a5",
   "metadata": {},
   "outputs": [
    {
     "data": {
      "text/plain": [
       "(1000, 14)"
      ]
     },
     "execution_count": 27,
     "metadata": {},
     "output_type": "execute_result"
    }
   ],
   "source": [
    "# printing the shape or dimensions of our dataframe (i.e. rows, columns)\n",
    "hate_Crimes.shape"
   ]
  },
  {
   "cell_type": "code",
   "execution_count": 28,
   "id": "975abbc3-b476-46ee-b3b1-0bad0f68fe4d",
   "metadata": {},
   "outputs": [
    {
     "data": {
      "text/plain": [
       "pandas.core.frame.DataFrame"
      ]
     },
     "execution_count": 28,
     "metadata": {},
     "output_type": "execute_result"
    }
   ],
   "source": [
    "# the object's type\n",
    "type(hate_Crimes)"
   ]
  },
  {
   "cell_type": "code",
   "execution_count": 29,
   "id": "39fef096-209d-433e-9b53-b761dbbaedb5",
   "metadata": {},
   "outputs": [
    {
     "data": {
      "text/plain": [
       "full_complaint_id                 int64\n",
       "complaint_year_number             int64\n",
       "month_number                      int64\n",
       "record_create_date               object\n",
       "complaint_precinct_code           int64\n",
       "patrol_borough_name              object\n",
       "county                           object\n",
       "law_code_category_description    object\n",
       "offense_description              object\n",
       "pd_code_description              object\n",
       "bias_motive_description          object\n",
       "offense_category                 object\n",
       "arrest_date                      object\n",
       "arrest_id                        object\n",
       "dtype: object"
      ]
     },
     "execution_count": 29,
     "metadata": {},
     "output_type": "execute_result"
    }
   ],
   "source": [
    "# printing the data types of our columns\n",
    "hate_Crimes.dtypes"
   ]
  },
  {
   "cell_type": "code",
   "execution_count": 30,
   "id": "ea4165d6-064b-4077-b9a9-8df883f309b4",
   "metadata": {},
   "outputs": [
    {
     "name": "stdout",
     "output_type": "stream",
     "text": [
      "<class 'pandas.core.frame.DataFrame'>\n",
      "RangeIndex: 1000 entries, 0 to 999\n",
      "Data columns (total 14 columns):\n",
      " #   Column                         Non-Null Count  Dtype \n",
      "---  ------                         --------------  ----- \n",
      " 0   full_complaint_id              1000 non-null   int64 \n",
      " 1   complaint_year_number          1000 non-null   int64 \n",
      " 2   month_number                   1000 non-null   int64 \n",
      " 3   record_create_date             1000 non-null   object\n",
      " 4   complaint_precinct_code        1000 non-null   int64 \n",
      " 5   patrol_borough_name            1000 non-null   object\n",
      " 6   county                         1000 non-null   object\n",
      " 7   law_code_category_description  1000 non-null   object\n",
      " 8   offense_description            1000 non-null   object\n",
      " 9   pd_code_description            1000 non-null   object\n",
      " 10  bias_motive_description        1000 non-null   object\n",
      " 11  offense_category               1000 non-null   object\n",
      " 12  arrest_date                    397 non-null    object\n",
      " 13  arrest_id                      397 non-null    object\n",
      "dtypes: int64(4), object(10)\n",
      "memory usage: 109.5+ KB\n"
     ]
    }
   ],
   "source": [
    "# printing the column names, non-null counts, and data types of our columns\n",
    "hate_Crimes.info()"
   ]
  },
  {
   "cell_type": "code",
   "execution_count": 39,
   "id": "fbead09c-a86b-4d80-8d68-f46f720e5479",
   "metadata": {},
   "outputs": [
    {
     "data": {
      "text/html": [
       "<div>\n",
       "<style scoped>\n",
       "    .dataframe tbody tr th:only-of-type {\n",
       "        vertical-align: middle;\n",
       "    }\n",
       "\n",
       "    .dataframe tbody tr th {\n",
       "        vertical-align: top;\n",
       "    }\n",
       "\n",
       "    .dataframe thead th {\n",
       "        text-align: right;\n",
       "    }\n",
       "</style>\n",
       "<table border=\"1\" class=\"dataframe\">\n",
       "  <thead>\n",
       "    <tr style=\"text-align: right;\">\n",
       "      <th></th>\n",
       "      <th>full_complaint_id</th>\n",
       "      <th>complaint_year_number</th>\n",
       "      <th>month_number</th>\n",
       "      <th>complaint_precinct_code</th>\n",
       "    </tr>\n",
       "  </thead>\n",
       "  <tbody>\n",
       "    <tr>\n",
       "      <th>count</th>\n",
       "      <td>1.000000e+03</td>\n",
       "      <td>1000.000000</td>\n",
       "      <td>1000.000000</td>\n",
       "      <td>1000.000000</td>\n",
       "    </tr>\n",
       "    <tr>\n",
       "      <th>mean</th>\n",
       "      <td>2.019878e+14</td>\n",
       "      <td>2019.822000</td>\n",
       "      <td>6.100000</td>\n",
       "      <td>56.266000</td>\n",
       "    </tr>\n",
       "    <tr>\n",
       "      <th>std</th>\n",
       "      <td>8.205222e+10</td>\n",
       "      <td>0.827648</td>\n",
       "      <td>3.279139</td>\n",
       "      <td>38.145673</td>\n",
       "    </tr>\n",
       "    <tr>\n",
       "      <th>min</th>\n",
       "      <td>2.019001e+14</td>\n",
       "      <td>2019.000000</td>\n",
       "      <td>1.000000</td>\n",
       "      <td>1.000000</td>\n",
       "    </tr>\n",
       "    <tr>\n",
       "      <th>25%</th>\n",
       "      <td>2.019071e+14</td>\n",
       "      <td>2019.000000</td>\n",
       "      <td>3.000000</td>\n",
       "      <td>18.000000</td>\n",
       "    </tr>\n",
       "    <tr>\n",
       "      <th>50%</th>\n",
       "      <td>2.020019e+14</td>\n",
       "      <td>2020.000000</td>\n",
       "      <td>6.000000</td>\n",
       "      <td>61.000000</td>\n",
       "    </tr>\n",
       "    <tr>\n",
       "      <th>75%</th>\n",
       "      <td>2.021005e+14</td>\n",
       "      <td>2021.000000</td>\n",
       "      <td>9.000000</td>\n",
       "      <td>90.000000</td>\n",
       "    </tr>\n",
       "    <tr>\n",
       "      <th>max</th>\n",
       "      <td>2.021123e+14</td>\n",
       "      <td>2021.000000</td>\n",
       "      <td>12.000000</td>\n",
       "      <td>123.000000</td>\n",
       "    </tr>\n",
       "  </tbody>\n",
       "</table>\n",
       "</div>"
      ],
      "text/plain": [
       "       full_complaint_id  complaint_year_number  month_number  \\\n",
       "count       1.000000e+03            1000.000000   1000.000000   \n",
       "mean        2.019878e+14            2019.822000      6.100000   \n",
       "std         8.205222e+10               0.827648      3.279139   \n",
       "min         2.019001e+14            2019.000000      1.000000   \n",
       "25%         2.019071e+14            2019.000000      3.000000   \n",
       "50%         2.020019e+14            2020.000000      6.000000   \n",
       "75%         2.021005e+14            2021.000000      9.000000   \n",
       "max         2.021123e+14            2021.000000     12.000000   \n",
       "\n",
       "       complaint_precinct_code  \n",
       "count              1000.000000  \n",
       "mean                 56.266000  \n",
       "std                  38.145673  \n",
       "min                   1.000000  \n",
       "25%                  18.000000  \n",
       "50%                  61.000000  \n",
       "75%                  90.000000  \n",
       "max                 123.000000  "
      ]
     },
     "execution_count": 39,
     "metadata": {},
     "output_type": "execute_result"
    }
   ],
   "source": [
    "# printing descriptive statistics \n",
    "hate_Crimes.describe()"
   ]
  },
  {
   "cell_type": "code",
   "execution_count": 40,
   "id": "6425948b-5fc7-4487-b7d3-e21e7300e703",
   "metadata": {},
   "outputs": [
    {
     "data": {
      "text/html": [
       "<div>\n",
       "<style scoped>\n",
       "    .dataframe tbody tr th:only-of-type {\n",
       "        vertical-align: middle;\n",
       "    }\n",
       "\n",
       "    .dataframe tbody tr th {\n",
       "        vertical-align: top;\n",
       "    }\n",
       "\n",
       "    .dataframe thead th {\n",
       "        text-align: right;\n",
       "    }\n",
       "</style>\n",
       "<table border=\"1\" class=\"dataframe\">\n",
       "  <thead>\n",
       "    <tr style=\"text-align: right;\">\n",
       "      <th></th>\n",
       "      <th>record_create_date</th>\n",
       "      <th>patrol_borough_name</th>\n",
       "      <th>county</th>\n",
       "      <th>law_code_category_description</th>\n",
       "      <th>offense_description</th>\n",
       "      <th>pd_code_description</th>\n",
       "      <th>bias_motive_description</th>\n",
       "      <th>offense_category</th>\n",
       "      <th>arrest_date</th>\n",
       "      <th>arrest_id</th>\n",
       "    </tr>\n",
       "  </thead>\n",
       "  <tbody>\n",
       "    <tr>\n",
       "      <th>count</th>\n",
       "      <td>1000</td>\n",
       "      <td>1000</td>\n",
       "      <td>1000</td>\n",
       "      <td>1000</td>\n",
       "      <td>1000</td>\n",
       "      <td>1000</td>\n",
       "      <td>1000</td>\n",
       "      <td>1000</td>\n",
       "      <td>397</td>\n",
       "      <td>397</td>\n",
       "    </tr>\n",
       "    <tr>\n",
       "      <th>unique</th>\n",
       "      <td>563</td>\n",
       "      <td>8</td>\n",
       "      <td>5</td>\n",
       "      <td>4</td>\n",
       "      <td>17</td>\n",
       "      <td>48</td>\n",
       "      <td>23</td>\n",
       "      <td>8</td>\n",
       "      <td>237</td>\n",
       "      <td>396</td>\n",
       "    </tr>\n",
       "    <tr>\n",
       "      <th>top</th>\n",
       "      <td>2021-04-25T00:00:00.000</td>\n",
       "      <td>PATROL BORO MAN SOUTH</td>\n",
       "      <td>NEW YORK</td>\n",
       "      <td>MISDEMEANOR</td>\n",
       "      <td>CRIMINAL MISCHIEF &amp; RELATED OF</td>\n",
       "      <td>AGGRAVATED HARASSMENT 1</td>\n",
       "      <td>ANTI-JEWISH</td>\n",
       "      <td>Religion/Religious Practice</td>\n",
       "      <td>2021-05-01T00:00:00.000</td>\n",
       "      <td>B31682806</td>\n",
       "    </tr>\n",
       "    <tr>\n",
       "      <th>freq</th>\n",
       "      <td>9</td>\n",
       "      <td>261</td>\n",
       "      <td>393</td>\n",
       "      <td>513</td>\n",
       "      <td>266</td>\n",
       "      <td>235</td>\n",
       "      <td>461</td>\n",
       "      <td>514</td>\n",
       "      <td>14</td>\n",
       "      <td>2</td>\n",
       "    </tr>\n",
       "  </tbody>\n",
       "</table>\n",
       "</div>"
      ],
      "text/plain": [
       "             record_create_date    patrol_borough_name    county  \\\n",
       "count                      1000                   1000      1000   \n",
       "unique                      563                      8         5   \n",
       "top     2021-04-25T00:00:00.000  PATROL BORO MAN SOUTH  NEW YORK   \n",
       "freq                          9                    261       393   \n",
       "\n",
       "       law_code_category_description             offense_description  \\\n",
       "count                           1000                            1000   \n",
       "unique                             4                              17   \n",
       "top                      MISDEMEANOR  CRIMINAL MISCHIEF & RELATED OF   \n",
       "freq                             513                             266   \n",
       "\n",
       "            pd_code_description bias_motive_description  \\\n",
       "count                      1000                    1000   \n",
       "unique                       48                      23   \n",
       "top     AGGRAVATED HARASSMENT 1             ANTI-JEWISH   \n",
       "freq                        235                     461   \n",
       "\n",
       "                   offense_category              arrest_date  arrest_id  \n",
       "count                          1000                      397        397  \n",
       "unique                            8                      237        396  \n",
       "top     Religion/Religious Practice  2021-05-01T00:00:00.000  B31682806  \n",
       "freq                            514                       14          2  "
      ]
     },
     "execution_count": 40,
     "metadata": {},
     "output_type": "execute_result"
    }
   ],
   "source": [
    "hate_Crimes.describe(include=['O'])"
   ]
  },
  {
   "cell_type": "code",
   "execution_count": 43,
   "id": "0a17cf29-b9e4-4fc7-b5f2-c2ab33f3ac74",
   "metadata": {},
   "outputs": [
    {
     "data": {
      "text/plain": [
       "full_complaint_id                  0\n",
       "complaint_year_number              0\n",
       "month_number                       0\n",
       "record_create_date                 0\n",
       "complaint_precinct_code            0\n",
       "patrol_borough_name                0\n",
       "county                             0\n",
       "law_code_category_description      0\n",
       "offense_description                0\n",
       "pd_code_description                0\n",
       "bias_motive_description            0\n",
       "offense_category                   0\n",
       "arrest_date                      603\n",
       "arrest_id                        603\n",
       "dtype: int64"
      ]
     },
     "execution_count": 43,
     "metadata": {},
     "output_type": "execute_result"
    }
   ],
   "source": [
    "# printing the number of null/na values in each column\n",
    "hate_Crimes.isna().sum()"
   ]
  },
  {
   "cell_type": "markdown",
   "id": "c9ad8769-271f-4bc9-92d3-154c3d085572",
   "metadata": {},
   "source": [
    "#### 3. Cleaning the data"
   ]
  },
  {
   "cell_type": "markdown",
   "id": "ea53ef57-9d98-421e-b752-d06e26f0120d",
   "metadata": {},
   "source": [
    "We next limit our data to only relevant columns and collapse it by precinct and year to construct the desired variable."
   ]
  },
  {
   "cell_type": "markdown",
   "id": "1d2e8f3b-103c-4f23-9e01-486ebda4eaf1",
   "metadata": {},
   "source": [
    "sum stats. Clean , read and merge with 2017 2018, collapse, "
   ]
  },
  {
   "cell_type": "code",
   "execution_count": 51,
   "id": "72a53c86-94e0-4f36-8561-438fb9b19595",
   "metadata": {},
   "outputs": [
    {
     "ename": "AttributeError",
     "evalue": "module 'numpy' has no attribute 'count'",
     "output_type": "error",
     "traceback": [
      "\u001b[0;31m---------------------------------------------------------------------------\u001b[0m",
      "\u001b[0;31mAttributeError\u001b[0m                            Traceback (most recent call last)",
      "\u001b[0;32m/var/folders/c_/pb_69mrs7kb5bq1mhxkjtg340000gn/T/ipykernel_46826/409375393.py\u001b[0m in \u001b[0;36m<module>\u001b[0;34m\u001b[0m\n\u001b[0;32m----> 1\u001b[0;31m \u001b[0mttt\u001b[0m \u001b[0;34m=\u001b[0m \u001b[0mhate_Crimes\u001b[0m\u001b[0;34m.\u001b[0m\u001b[0mpivot_table\u001b[0m\u001b[0;34m(\u001b[0m\u001b[0;34m'full_complaint_id'\u001b[0m\u001b[0;34m,\u001b[0m \u001b[0mindex\u001b[0m\u001b[0;34m=\u001b[0m\u001b[0;34m'complaint_precinct_code'\u001b[0m\u001b[0;34m,\u001b[0m \u001b[0mcolumns\u001b[0m\u001b[0;34m=\u001b[0m\u001b[0;34m'complaint_year_number'\u001b[0m\u001b[0;34m,\u001b[0m\u001b[0maggfunc\u001b[0m\u001b[0;34m=\u001b[0m\u001b[0mnp\u001b[0m\u001b[0;34m.\u001b[0m\u001b[0mcount\u001b[0m\u001b[0;34m)\u001b[0m\u001b[0;34m\u001b[0m\u001b[0;34m\u001b[0m\u001b[0m\n\u001b[0m",
      "\u001b[0;32m~/opt/anaconda3/lib/python3.7/site-packages/numpy/__init__.py\u001b[0m in \u001b[0;36m__getattr__\u001b[0;34m(attr)\u001b[0m\n\u001b[1;32m    302\u001b[0m \u001b[0;34m\u001b[0m\u001b[0m\n\u001b[1;32m    303\u001b[0m             raise AttributeError(\"module {!r} has no attribute \"\n\u001b[0;32m--> 304\u001b[0;31m                                  \"{!r}\".format(__name__, attr))\n\u001b[0m\u001b[1;32m    305\u001b[0m \u001b[0;34m\u001b[0m\u001b[0m\n\u001b[1;32m    306\u001b[0m         \u001b[0;32mdef\u001b[0m \u001b[0m__dir__\u001b[0m\u001b[0;34m(\u001b[0m\u001b[0;34m)\u001b[0m\u001b[0;34m:\u001b[0m\u001b[0;34m\u001b[0m\u001b[0;34m\u001b[0m\u001b[0m\n",
      "\u001b[0;31mAttributeError\u001b[0m: module 'numpy' has no attribute 'count'"
     ]
    }
   ],
   "source": [
    "ttt = hate_Crimes.pivot_table('full_complaint_id', index='complaint_precinct_code', columns='complaint_year_number',aggfunc=np.count)"
   ]
  },
  {
   "cell_type": "code",
   "execution_count": 49,
   "id": "43a419fe-9b49-490f-b683-48f9135c1d5e",
   "metadata": {},
   "outputs": [
    {
     "data": {
      "text/html": [
       "<div>\n",
       "<style scoped>\n",
       "    .dataframe tbody tr th:only-of-type {\n",
       "        vertical-align: middle;\n",
       "    }\n",
       "\n",
       "    .dataframe tbody tr th {\n",
       "        vertical-align: top;\n",
       "    }\n",
       "\n",
       "    .dataframe thead th {\n",
       "        text-align: right;\n",
       "    }\n",
       "</style>\n",
       "<table border=\"1\" class=\"dataframe\">\n",
       "  <thead>\n",
       "    <tr style=\"text-align: right;\">\n",
       "      <th>complaint_year_number</th>\n",
       "      <th>2019</th>\n",
       "      <th>2020</th>\n",
       "      <th>2021</th>\n",
       "    </tr>\n",
       "    <tr>\n",
       "      <th>complaint_precinct_code</th>\n",
       "      <th></th>\n",
       "      <th></th>\n",
       "      <th></th>\n",
       "    </tr>\n",
       "  </thead>\n",
       "  <tbody>\n",
       "    <tr>\n",
       "      <th>1</th>\n",
       "      <td>2.019001e+14</td>\n",
       "      <td>2.020001e+14</td>\n",
       "      <td>2.021001e+14</td>\n",
       "    </tr>\n",
       "    <tr>\n",
       "      <th>5</th>\n",
       "      <td>2.019005e+14</td>\n",
       "      <td>2.020005e+14</td>\n",
       "      <td>2.021005e+14</td>\n",
       "    </tr>\n",
       "    <tr>\n",
       "      <th>6</th>\n",
       "      <td>2.019006e+14</td>\n",
       "      <td>2.020006e+14</td>\n",
       "      <td>2.021006e+14</td>\n",
       "    </tr>\n",
       "    <tr>\n",
       "      <th>7</th>\n",
       "      <td>2.019007e+14</td>\n",
       "      <td>2.020007e+14</td>\n",
       "      <td>2.021007e+14</td>\n",
       "    </tr>\n",
       "    <tr>\n",
       "      <th>9</th>\n",
       "      <td>2.019009e+14</td>\n",
       "      <td>2.020009e+14</td>\n",
       "      <td>2.021009e+14</td>\n",
       "    </tr>\n",
       "    <tr>\n",
       "      <th>...</th>\n",
       "      <td>...</td>\n",
       "      <td>...</td>\n",
       "      <td>...</td>\n",
       "    </tr>\n",
       "    <tr>\n",
       "      <th>115</th>\n",
       "      <td>2.019115e+14</td>\n",
       "      <td>2.020115e+14</td>\n",
       "      <td>2.021115e+14</td>\n",
       "    </tr>\n",
       "    <tr>\n",
       "      <th>120</th>\n",
       "      <td>2.019120e+14</td>\n",
       "      <td>2.020120e+14</td>\n",
       "      <td>2.021120e+14</td>\n",
       "    </tr>\n",
       "    <tr>\n",
       "      <th>121</th>\n",
       "      <td>2.019121e+14</td>\n",
       "      <td>2.020121e+14</td>\n",
       "      <td>NaN</td>\n",
       "    </tr>\n",
       "    <tr>\n",
       "      <th>122</th>\n",
       "      <td>2.019122e+14</td>\n",
       "      <td>2.020122e+14</td>\n",
       "      <td>2.021122e+14</td>\n",
       "    </tr>\n",
       "    <tr>\n",
       "      <th>123</th>\n",
       "      <td>2.019123e+14</td>\n",
       "      <td>2.020123e+14</td>\n",
       "      <td>2.021123e+14</td>\n",
       "    </tr>\n",
       "  </tbody>\n",
       "</table>\n",
       "<p>76 rows × 3 columns</p>\n",
       "</div>"
      ],
      "text/plain": [
       "complaint_year_number            2019          2020          2021\n",
       "complaint_precinct_code                                          \n",
       "1                        2.019001e+14  2.020001e+14  2.021001e+14\n",
       "5                        2.019005e+14  2.020005e+14  2.021005e+14\n",
       "6                        2.019006e+14  2.020006e+14  2.021006e+14\n",
       "7                        2.019007e+14  2.020007e+14  2.021007e+14\n",
       "9                        2.019009e+14  2.020009e+14  2.021009e+14\n",
       "...                               ...           ...           ...\n",
       "115                      2.019115e+14  2.020115e+14  2.021115e+14\n",
       "120                      2.019120e+14  2.020120e+14  2.021120e+14\n",
       "121                      2.019121e+14  2.020121e+14           NaN\n",
       "122                      2.019122e+14  2.020122e+14  2.021122e+14\n",
       "123                      2.019123e+14  2.020123e+14  2.021123e+14\n",
       "\n",
       "[76 rows x 3 columns]"
      ]
     },
     "execution_count": 49,
     "metadata": {},
     "output_type": "execute_result"
    }
   ],
   "source": [
    "ttt"
   ]
  },
  {
   "cell_type": "code",
   "execution_count": 62,
   "id": "2d096f3b-a7d9-4ad6-90a8-4d13d504a587",
   "metadata": {},
   "outputs": [
    {
     "ename": "KeyError",
     "evalue": "'complaint_year_number'",
     "output_type": "error",
     "traceback": [
      "\u001b[0;31m---------------------------------------------------------------------------\u001b[0m",
      "\u001b[0;31mKeyError\u001b[0m                                  Traceback (most recent call last)",
      "\u001b[0;32m/var/folders/c_/pb_69mrs7kb5bq1mhxkjtg340000gn/T/ipykernel_46826/792110700.py\u001b[0m in \u001b[0;36m<module>\u001b[0;34m\u001b[0m\n\u001b[0;32m----> 1\u001b[0;31m \u001b[0my\u001b[0m \u001b[0;34m=\u001b[0m \u001b[0mhate_Crimes\u001b[0m\u001b[0;34m[\u001b[0m\u001b[0;34m'full_complaint_id'\u001b[0m\u001b[0;34m]\u001b[0m\u001b[0;34m.\u001b[0m\u001b[0mgroupby\u001b[0m\u001b[0;34m(\u001b[0m\u001b[0;34m'complaint_year_number'\u001b[0m\u001b[0;34m)\u001b[0m\u001b[0;34m[\u001b[0m\u001b[0;34m'full_complaint_id'\u001b[0m\u001b[0;34m]\u001b[0m\u001b[0;34m.\u001b[0m\u001b[0mtransform\u001b[0m\u001b[0;34m(\u001b[0m\u001b[0;34m'count'\u001b[0m\u001b[0;34m)\u001b[0m\u001b[0;34m\u001b[0m\u001b[0;34m\u001b[0m\u001b[0m\n\u001b[0m",
      "\u001b[0;32m~/opt/anaconda3/lib/python3.7/site-packages/pandas/core/series.py\u001b[0m in \u001b[0;36mgroupby\u001b[0;34m(self, by, axis, level, as_index, sort, group_keys, squeeze, observed, dropna)\u001b[0m\n\u001b[1;32m   1892\u001b[0m             \u001b[0msqueeze\u001b[0m\u001b[0;34m=\u001b[0m\u001b[0msqueeze\u001b[0m\u001b[0;34m,\u001b[0m  \u001b[0;31m# type: ignore[arg-type]\u001b[0m\u001b[0;34m\u001b[0m\u001b[0;34m\u001b[0m\u001b[0m\n\u001b[1;32m   1893\u001b[0m             \u001b[0mobserved\u001b[0m\u001b[0;34m=\u001b[0m\u001b[0mobserved\u001b[0m\u001b[0;34m,\u001b[0m\u001b[0;34m\u001b[0m\u001b[0;34m\u001b[0m\u001b[0m\n\u001b[0;32m-> 1894\u001b[0;31m             \u001b[0mdropna\u001b[0m\u001b[0;34m=\u001b[0m\u001b[0mdropna\u001b[0m\u001b[0;34m,\u001b[0m\u001b[0;34m\u001b[0m\u001b[0;34m\u001b[0m\u001b[0m\n\u001b[0m\u001b[1;32m   1895\u001b[0m         )\n\u001b[1;32m   1896\u001b[0m \u001b[0;34m\u001b[0m\u001b[0m\n",
      "\u001b[0;32m~/opt/anaconda3/lib/python3.7/site-packages/pandas/core/groupby/groupby.py\u001b[0m in \u001b[0;36m__init__\u001b[0;34m(self, obj, keys, axis, level, grouper, exclusions, selection, as_index, sort, group_keys, squeeze, observed, mutated, dropna)\u001b[0m\n\u001b[1;32m    895\u001b[0m                 \u001b[0mobserved\u001b[0m\u001b[0;34m=\u001b[0m\u001b[0mobserved\u001b[0m\u001b[0;34m,\u001b[0m\u001b[0;34m\u001b[0m\u001b[0;34m\u001b[0m\u001b[0m\n\u001b[1;32m    896\u001b[0m                 \u001b[0mmutated\u001b[0m\u001b[0;34m=\u001b[0m\u001b[0mself\u001b[0m\u001b[0;34m.\u001b[0m\u001b[0mmutated\u001b[0m\u001b[0;34m,\u001b[0m\u001b[0;34m\u001b[0m\u001b[0;34m\u001b[0m\u001b[0m\n\u001b[0;32m--> 897\u001b[0;31m                 \u001b[0mdropna\u001b[0m\u001b[0;34m=\u001b[0m\u001b[0mself\u001b[0m\u001b[0;34m.\u001b[0m\u001b[0mdropna\u001b[0m\u001b[0;34m,\u001b[0m\u001b[0;34m\u001b[0m\u001b[0;34m\u001b[0m\u001b[0m\n\u001b[0m\u001b[1;32m    898\u001b[0m             )\n\u001b[1;32m    899\u001b[0m \u001b[0;34m\u001b[0m\u001b[0m\n",
      "\u001b[0;32m~/opt/anaconda3/lib/python3.7/site-packages/pandas/core/groupby/grouper.py\u001b[0m in \u001b[0;36mget_grouper\u001b[0;34m(obj, key, axis, level, sort, observed, mutated, validate, dropna)\u001b[0m\n\u001b[1;32m    860\u001b[0m                 \u001b[0min_axis\u001b[0m\u001b[0;34m,\u001b[0m \u001b[0mlevel\u001b[0m\u001b[0;34m,\u001b[0m \u001b[0mgpr\u001b[0m \u001b[0;34m=\u001b[0m \u001b[0;32mFalse\u001b[0m\u001b[0;34m,\u001b[0m \u001b[0mgpr\u001b[0m\u001b[0;34m,\u001b[0m \u001b[0;32mNone\u001b[0m\u001b[0;34m\u001b[0m\u001b[0;34m\u001b[0m\u001b[0m\n\u001b[1;32m    861\u001b[0m             \u001b[0;32melse\u001b[0m\u001b[0;34m:\u001b[0m\u001b[0;34m\u001b[0m\u001b[0;34m\u001b[0m\u001b[0m\n\u001b[0;32m--> 862\u001b[0;31m                 \u001b[0;32mraise\u001b[0m \u001b[0mKeyError\u001b[0m\u001b[0;34m(\u001b[0m\u001b[0mgpr\u001b[0m\u001b[0;34m)\u001b[0m\u001b[0;34m\u001b[0m\u001b[0;34m\u001b[0m\u001b[0m\n\u001b[0m\u001b[1;32m    863\u001b[0m         \u001b[0;32melif\u001b[0m \u001b[0misinstance\u001b[0m\u001b[0;34m(\u001b[0m\u001b[0mgpr\u001b[0m\u001b[0;34m,\u001b[0m \u001b[0mGrouper\u001b[0m\u001b[0;34m)\u001b[0m \u001b[0;32mand\u001b[0m \u001b[0mgpr\u001b[0m\u001b[0;34m.\u001b[0m\u001b[0mkey\u001b[0m \u001b[0;32mis\u001b[0m \u001b[0;32mnot\u001b[0m \u001b[0;32mNone\u001b[0m\u001b[0;34m:\u001b[0m\u001b[0;34m\u001b[0m\u001b[0;34m\u001b[0m\u001b[0m\n\u001b[1;32m    864\u001b[0m             \u001b[0;31m# Add key to exclusions\u001b[0m\u001b[0;34m\u001b[0m\u001b[0;34m\u001b[0m\u001b[0;34m\u001b[0m\u001b[0m\n",
      "\u001b[0;31mKeyError\u001b[0m: 'complaint_year_number'"
     ]
    }
   ],
   "source": [
    "y = hate_Crimes['full_complaint_id'].groupby('complaint_year_number')['full_complaint_id'].transform('count')"
   ]
  },
  {
   "cell_type": "code",
   "execution_count": 61,
   "id": "c87f9d67-0ad2-41ef-946b-866f5a92416a",
   "metadata": {},
   "outputs": [
    {
     "data": {
      "text/plain": [
       "0      447\n",
       "1      447\n",
       "2      447\n",
       "3      447\n",
       "4      447\n",
       "      ... \n",
       "995    269\n",
       "996    269\n",
       "997    269\n",
       "998    269\n",
       "999    269\n",
       "Name: full_complaint_id, Length: 1000, dtype: int64"
      ]
     },
     "execution_count": 61,
     "metadata": {},
     "output_type": "execute_result"
    }
   ],
   "source": [
    "y"
   ]
  },
  {
   "cell_type": "code",
   "execution_count": null,
   "id": "c322cf6b-0f5f-4047-a26d-0297b0705a80",
   "metadata": {},
   "outputs": [],
   "source": []
  }
 ],
 "metadata": {
  "kernelspec": {
   "display_name": "Python 3 (ipykernel)",
   "language": "python",
   "name": "python3"
  },
  "language_info": {
   "codemirror_mode": {
    "name": "ipython",
    "version": 3
   },
   "file_extension": ".py",
   "mimetype": "text/x-python",
   "name": "python",
   "nbconvert_exporter": "python",
   "pygments_lexer": "ipython3",
   "version": "3.7.10"
  }
 },
 "nbformat": 4,
 "nbformat_minor": 5
}
